{
 "cells": [
  {
   "cell_type": "code",
   "execution_count": 1,
   "id": "f215559f",
   "metadata": {},
   "outputs": [],
   "source": [
    "import pandas as pd\n",
    "from sklearn.linear_model import LinearRegression\n",
    "from sklearn.model_selection import train_test_split"
   ]
  },
  {
   "cell_type": "code",
   "execution_count": 21,
   "id": "1af3f58a",
   "metadata": {},
   "outputs": [],
   "source": [
    "#loading the data and creating the dataset\n",
    "dataset=pd.read_csv('Advertising.csv')\n",
    "x = dataset.iloc[:,1:4]\n",
    "y = dataset['Sales']\n",
    "x_train,x_test,y_train,y_test = train_test_split(x,y)\n",
    "\n"
   ]
  },
  {
   "cell_type": "code",
   "execution_count": 22,
   "id": "044af936",
   "metadata": {},
   "outputs": [],
   "source": [
    "#create and fit model for prediction\n",
    "lin = LinearRegression()\n",
    "lin.fit(x_train,y_train)\n",
    "y_pred =lin.predict(x_test)"
   ]
  },
  {
   "cell_type": "code",
   "execution_count": 25,
   "id": "b2f1f04b",
   "metadata": {},
   "outputs": [
    {
     "name": "stderr",
     "output_type": "stream",
     "text": [
      "C:\\Users\\jakey\\AppData\\Local\\Temp\\ipykernel_40032\\4166987020.py:4: FutureWarning: The frame.append method is deprecated and will be removed from pandas in a future version. Use pandas.concat instead.\n",
      "  components = components.append({'component':'intercept','value':lin.intercept_}, ignore_index=True)\n"
     ]
    }
   ],
   "source": [
    "#create CoEfficients\n",
    "coef = lin.coef_\n",
    "components = pd.DataFrame(zip(x.columns,coef),columns=['component','value'])\n",
    "components = components.append({'component':'intercept','value':lin.intercept_}, ignore_index=True)"
   ]
  },
  {
   "cell_type": "code",
   "execution_count": null,
   "id": "6f9b82a7",
   "metadata": {},
   "outputs": [],
   "source": []
  },
  {
   "cell_type": "code",
   "execution_count": null,
   "id": "4c0849bb",
   "metadata": {},
   "outputs": [],
   "source": []
  }
 ],
 "metadata": {
  "kernelspec": {
   "display_name": "Python 3 (ipykernel)",
   "language": "python",
   "name": "python3"
  },
  "language_info": {
   "codemirror_mode": {
    "name": "ipython",
    "version": 3
   },
   "file_extension": ".py",
   "mimetype": "text/x-python",
   "name": "python",
   "nbconvert_exporter": "python",
   "pygments_lexer": "ipython3",
   "version": "3.11.1"
  }
 },
 "nbformat": 4,
 "nbformat_minor": 5
}
